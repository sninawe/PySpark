{
 "cells": [
  {
   "cell_type": "code",
   "execution_count": 2,
   "metadata": {
    "collapsed": false
   },
   "outputs": [],
   "source": [
    "#Load the Data\n",
    "from pyspark.sql import SQLContext\n",
    "sqlContext = SQLContext(sc)\n",
    "from pyspark.sql.types import *\n",
    "from pyspark.sql import Row\n",
    "from pyspark.mllib.util import MLUtils\n",
    "from pyspark.ml.linalg import Vectors\n",
    "from pyspark.ml.feature import MinMaxScaler\n",
    "from pyspark.sql import types\n",
    "from pyspark.sql.functions import *\n",
    "import re\n",
    "\n",
    "#Read csv files into RDD\n",
    "rdd1 = sc.textFile(\"Google.csv\")\n",
    "rdd2 = sc.textFile(\"Amazon.csv\")\n",
    "\n",
    "#Remove first header\n",
    "googleHeader = rdd1.filter(lambda l: \"id\" in l)\n",
    "googleHeader.collect()\n",
    "googlerddNoHeader = rdd1.subtract(googleHeader)\n",
    "googlerddNoHeader.take(2)\n",
    "\n",
    "#Remove second header\n",
    "AmazonHeader = rdd2.filter(lambda l: \"id\" in l)\n",
    "AmazonHeader.collect()\n",
    "AmazonrddNoHeader = rdd2.subtract(AmazonHeader)\n",
    "AmazonrddNoHeader.take(2)\n",
    "\n",
    "#Split the RDD file by comma\n",
    "googlerdd = googlerddNoHeader.map(lambda line: line.split(\",\"))\n",
    "amazonrdd = AmazonrddNoHeader.map(lambda line: line.split(\",\"))"
   ]
  },
  {
   "cell_type": "code",
   "execution_count": 3,
   "metadata": {
    "collapsed": false
   },
   "outputs": [],
   "source": [
    "#Create Dataframe from RDD and add column Names\n",
    "Google_df = googlerdd.map(lambda line: Row(Id=line[0],\n",
    "title=line[1],\n",
    "description=line[2],\n",
    "manufacture=line[3],\n",
    "price=line[4])).toDF()\n",
    "\n",
    "Amazon_df = amazonrdd.map(lambda line: Row(Id=line[0],\n",
    "title=line[1],\n",
    "description=line[2],\n",
    "manufacture=line[3],\n",
    "price=line[4])).toDF()\n",
    "\n",
    "#Select only ID and description columns as per the requirement\n",
    "google_df_select = Google_df.select('Id','description')\n",
    "amazon_df_select = Amazon_df.select('Id','description')"
   ]
  },
  {
   "cell_type": "code",
   "execution_count": 4,
   "metadata": {
    "collapsed": false
   },
   "outputs": [],
   "source": [
    "#Create function to remove double quotes\n",
    "import re\n",
    "from pyspark.sql.functions import UserDefinedFunction\n",
    "from pyspark.sql.types import *\n",
    "\n",
    "def remove_quotes(df):\n",
    "    udf = UserDefinedFunction(lambda x: re.sub('\"','',x), StringType())\n",
    "    new_df = df.select(*[udf(column).alias(column) for column in df.columns])\n",
    "    return new_df"
   ]
  },
  {
   "cell_type": "code",
   "execution_count": 5,
   "metadata": {
    "collapsed": false
   },
   "outputs": [],
   "source": [
    "#Remove double quotes using the above function\n",
    "amazon_noquotes = remove_quotes(amazon_df_select)\n",
    "google_noquotes = remove_quotes(google_df_select)"
   ]
  },
  {
   "cell_type": "code",
   "execution_count": 6,
   "metadata": {
    "collapsed": false
   },
   "outputs": [],
   "source": [
    "#Convert the dataframe to RDD\n",
    "amazon_rdd_select = amazon_noquotes.rdd\n",
    "google_rdd_select = google_noquotes.rdd"
   ]
  },
  {
   "cell_type": "code",
   "execution_count": 7,
   "metadata": {
    "collapsed": false
   },
   "outputs": [
    {
     "data": {
      "text/plain": [
       "[Row(Id='http://www.google.com/base/feeds/snippets/11343515411965421256', description='qb pos 6.0 basic retail mngmt software. for retailers who need basic inventory sales and customer tracking.'),\n",
       " Row(Id='http://www.google.com/base/feeds/snippets/13719401226624644329', description='adaptec 5325302018 : usually ships in 24 hours : : snap edr is a high-performance network-optimized software solution for distributing protecting and reporting on business-critical information throughout distributed enterprises.')]"
      ]
     },
     "execution_count": 7,
     "metadata": {},
     "output_type": "execute_result"
    }
   ],
   "source": [
    "google_rdd_select.take(2)"
   ]
  },
  {
   "cell_type": "code",
   "execution_count": 8,
   "metadata": {
    "collapsed": false
   },
   "outputs": [
    {
     "data": {
      "text/plain": [
       "{'!',\n",
       " '!!',\n",
       " '!?',\n",
       " '\"',\n",
       " '#',\n",
       " '###',\n",
       " '$',\n",
       " '%',\n",
       " '&',\n",
       " \"'\",\n",
       " \"''\",\n",
       " \"'ll\",\n",
       " \"'m\",\n",
       " \"'s\",\n",
       " '(',\n",
       " ')',\n",
       " '*',\n",
       " '+',\n",
       " ',',\n",
       " '-',\n",
       " '-lrb-',\n",
       " '-lsb-',\n",
       " '-rrb-',\n",
       " '-rsb-',\n",
       " '.',\n",
       " '..',\n",
       " '...',\n",
       " ':',\n",
       " ';',\n",
       " '<',\n",
       " '>',\n",
       " '?',\n",
       " '?!',\n",
       " '??',\n",
       " '@',\n",
       " '[',\n",
       " ']',\n",
       " '^',\n",
       " '`',\n",
       " '``',\n",
       " 'a',\n",
       " 'about',\n",
       " 'above',\n",
       " 'after',\n",
       " 'again',\n",
       " 'against',\n",
       " 'all',\n",
       " 'am',\n",
       " 'an',\n",
       " 'and',\n",
       " 'any',\n",
       " 'are',\n",
       " \"aren't\",\n",
       " 'arent',\n",
       " 'as',\n",
       " 'at',\n",
       " 'be',\n",
       " 'because',\n",
       " 'been',\n",
       " 'before',\n",
       " 'being',\n",
       " 'below',\n",
       " 'between',\n",
       " 'both',\n",
       " 'but',\n",
       " 'by',\n",
       " 'can',\n",
       " \"can't\",\n",
       " 'cannot',\n",
       " 'cant',\n",
       " 'could',\n",
       " \"couldn't\",\n",
       " 'couldnt',\n",
       " 'did',\n",
       " \"didn't\",\n",
       " 'didnt',\n",
       " 'do',\n",
       " 'does',\n",
       " \"doesn't\",\n",
       " 'doesnt',\n",
       " 'doing',\n",
       " \"don't\",\n",
       " 'dont',\n",
       " 'down',\n",
       " 'during',\n",
       " 'each',\n",
       " 'few',\n",
       " 'for',\n",
       " 'from',\n",
       " 'further',\n",
       " 'had',\n",
       " \"hadn't\",\n",
       " 'hadnt',\n",
       " 'has',\n",
       " \"hasn't\",\n",
       " 'hasnt',\n",
       " 'have',\n",
       " \"haven't\",\n",
       " 'havent',\n",
       " 'having',\n",
       " 'he',\n",
       " \"he'd\",\n",
       " \"he'll\",\n",
       " \"he's\",\n",
       " 'her',\n",
       " 'here',\n",
       " \"here's\",\n",
       " 'heres',\n",
       " 'hers',\n",
       " 'herself',\n",
       " 'hes',\n",
       " 'him',\n",
       " 'himself',\n",
       " 'his',\n",
       " 'how',\n",
       " \"how's\",\n",
       " 'hows',\n",
       " 'i',\n",
       " \"i'd\",\n",
       " \"i'll\",\n",
       " \"i'm\",\n",
       " \"i've\",\n",
       " 'if',\n",
       " 'im',\n",
       " 'in',\n",
       " 'into',\n",
       " 'is',\n",
       " \"isn't\",\n",
       " 'isnt',\n",
       " 'it',\n",
       " \"it's\",\n",
       " 'its',\n",
       " 'itself',\n",
       " \"let's\",\n",
       " 'lets',\n",
       " 'me',\n",
       " 'more',\n",
       " 'most',\n",
       " \"mustn't\",\n",
       " 'mustnt',\n",
       " 'my',\n",
       " 'myself',\n",
       " 'no',\n",
       " 'nor',\n",
       " 'not',\n",
       " 'of',\n",
       " 'off',\n",
       " 'on',\n",
       " 'once',\n",
       " 'only',\n",
       " 'or',\n",
       " 'other',\n",
       " 'ought',\n",
       " 'our',\n",
       " 'ours ',\n",
       " 'ourselves',\n",
       " 'out',\n",
       " 'over',\n",
       " 'own',\n",
       " 'return',\n",
       " 'same',\n",
       " \"shan't\",\n",
       " 'shant',\n",
       " 'she',\n",
       " \"she'd\",\n",
       " \"she'll\",\n",
       " \"she's\",\n",
       " 'shes',\n",
       " 'should',\n",
       " \"shouldn't\",\n",
       " 'shouldnt',\n",
       " 'so',\n",
       " 'some',\n",
       " 'such',\n",
       " 'than',\n",
       " 'that',\n",
       " \"that's\",\n",
       " 'thats',\n",
       " 'the',\n",
       " 'their',\n",
       " 'theirs',\n",
       " 'them',\n",
       " 'themselves',\n",
       " 'then',\n",
       " 'there',\n",
       " \"there's\",\n",
       " 'theres',\n",
       " 'these',\n",
       " 'they',\n",
       " \"they'd\",\n",
       " \"they'll\",\n",
       " \"they're\",\n",
       " \"they've\",\n",
       " 'theyll',\n",
       " 'theyre',\n",
       " 'theyve',\n",
       " 'this',\n",
       " 'those',\n",
       " 'through',\n",
       " 'to',\n",
       " 'too',\n",
       " 'under',\n",
       " 'until',\n",
       " 'up',\n",
       " 'very',\n",
       " 'was',\n",
       " \"wasn't\",\n",
       " 'wasnt',\n",
       " 'we',\n",
       " \"we'd\",\n",
       " \"we'll\",\n",
       " \"we're\",\n",
       " \"we've\",\n",
       " 'were',\n",
       " \"weren't\",\n",
       " 'werent',\n",
       " 'what',\n",
       " \"what's\",\n",
       " 'whats',\n",
       " 'when',\n",
       " \"when's\",\n",
       " 'whens',\n",
       " 'where',\n",
       " \"where's\",\n",
       " 'wheres',\n",
       " 'which',\n",
       " 'while',\n",
       " 'who',\n",
       " \"who's\",\n",
       " 'whom',\n",
       " 'whos',\n",
       " 'why',\n",
       " \"why's\",\n",
       " 'whys',\n",
       " 'with',\n",
       " \"won't\",\n",
       " 'wont',\n",
       " 'would',\n",
       " \"wouldn't\",\n",
       " 'wouldnt',\n",
       " 'you',\n",
       " \"you'd\",\n",
       " \"you'll\",\n",
       " \"you're\",\n",
       " \"you've\",\n",
       " 'youd',\n",
       " 'youll',\n",
       " 'your',\n",
       " 'youre',\n",
       " 'yours',\n",
       " 'yourself',\n",
       " 'yourselves',\n",
       " 'youve',\n",
       " '{',\n",
       " '}'}"
      ]
     },
     "execution_count": 8,
     "metadata": {},
     "output_type": "execute_result"
    }
   ],
   "source": [
    "#Part 2\n",
    "#Read the stopwords file\n",
    "stopwords = set(sc.textFile('C:/opt/spark/stopwords.txt').collect())\n",
    "stopwords"
   ]
  },
  {
   "cell_type": "code",
   "execution_count": 9,
   "metadata": {
    "collapsed": true
   },
   "outputs": [],
   "source": [
    "#Create non-empty tokens by splitting using regular expressions\n",
    "split_regex = r'\\W+'\n",
    "def simpleTokenise(string):\n",
    "  return filter(None, re.split(split_regex, string))"
   ]
  },
  {
   "cell_type": "code",
   "execution_count": 10,
   "metadata": {
    "collapsed": true
   },
   "outputs": [],
   "source": [
    "#Implement a function, an improved tokenizer that does not emit stopwords.\n",
    "def removeStopWords(listOfTokens):\n",
    "  return [token for token in listOfTokens if token not in stopwords]"
   ]
  },
  {
   "cell_type": "code",
   "execution_count": 11,
   "metadata": {
    "collapsed": true
   },
   "outputs": [],
   "source": [
    "#Function to Remove Stopwords and tokenize the data\n",
    "def tokeniseAndRemoveStopwords(string):\n",
    "  List = simpleTokenise(string)\n",
    "  return removeStopWords(List)"
   ]
  },
  {
   "cell_type": "code",
   "execution_count": 12,
   "metadata": {
    "collapsed": false
   },
   "outputs": [],
   "source": [
    "#Use the function created above to remove stopwords and tokenize description column\n",
    "amazon_rdd = amazon_rdd_select.map(lambda s: (s[0], tokeniseAndRemoveStopwords(s[1])))\n",
    "google_rdd = google_rdd_select.map(lambda s: (s[0], tokeniseAndRemoveStopwords(s[1])))"
   ]
  },
  {
   "cell_type": "code",
   "execution_count": 13,
   "metadata": {
    "collapsed": false
   },
   "outputs": [
    {
     "data": {
      "text/plain": [
       "[('http://www.google.com/base/feeds/snippets/11343515411965421256',\n",
       "  ['qb',\n",
       "   'pos',\n",
       "   '6',\n",
       "   '0',\n",
       "   'basic',\n",
       "   'retail',\n",
       "   'mngmt',\n",
       "   'software',\n",
       "   'retailers',\n",
       "   'need',\n",
       "   'basic',\n",
       "   'inventory',\n",
       "   'sales',\n",
       "   'customer',\n",
       "   'tracking']),\n",
       " ('http://www.google.com/base/feeds/snippets/13719401226624644329',\n",
       "  ['adaptec',\n",
       "   '5325302018',\n",
       "   'usually',\n",
       "   'ships',\n",
       "   '24',\n",
       "   'hours',\n",
       "   'snap',\n",
       "   'edr',\n",
       "   'high',\n",
       "   'performance',\n",
       "   'network',\n",
       "   'optimized',\n",
       "   'software',\n",
       "   'solution',\n",
       "   'distributing',\n",
       "   'protecting',\n",
       "   'reporting',\n",
       "   'business',\n",
       "   'critical',\n",
       "   'information',\n",
       "   'throughout',\n",
       "   'distributed',\n",
       "   'enterprises'])]"
      ]
     },
     "execution_count": 13,
     "metadata": {},
     "output_type": "execute_result"
    }
   ],
   "source": [
    "google_rdd.take(2)"
   ]
  },
  {
   "cell_type": "code",
   "execution_count": 14,
   "metadata": {
    "collapsed": false
   },
   "outputs": [
    {
     "data": {
      "text/plain": [
       "[('b0006se5bq',\n",
       "  ['singing',\n",
       "   'coach',\n",
       "   'unlimited',\n",
       "   'electronic',\n",
       "   'learning',\n",
       "   'products',\n",
       "   'win',\n",
       "   'nt',\n",
       "   '2000',\n",
       "   'xp']),\n",
       " ('b000ehpzv8', ['emc', 'retrospect', '7', '5', 'disk', 'diskcromwindows'])]"
      ]
     },
     "execution_count": 14,
     "metadata": {},
     "output_type": "execute_result"
    }
   ],
   "source": [
    "amazon_rdd.take(2)"
   ]
  },
  {
   "cell_type": "code",
   "execution_count": 15,
   "metadata": {
    "collapsed": true
   },
   "outputs": [],
   "source": [
    "# Function that takes a list of tokens and returns a dictionary mapping tokens to term frequency.\n",
    "def termfreq(tokens):\n",
    "    counts = {}\n",
    "    for key in tokens:\n",
    "      if key in counts:\n",
    "        counts[key] += 1\n",
    "      else:\n",
    "        counts[key] = 1\n",
    "    n_tokens = len(tokens)\n",
    "    \n",
    "    freq = {}\n",
    "    for k,v in counts.items():\n",
    "      freq[k] = 1.0*v/ n_tokens\n",
    "    return freq"
   ]
  },
  {
   "cell_type": "code",
   "execution_count": 16,
   "metadata": {
    "collapsed": false
   },
   "outputs": [
    {
     "data": {
      "text/plain": [
       "{'2000': 0.1,\n",
       " 'coach': 0.1,\n",
       " 'electronic': 0.1,\n",
       " 'learning': 0.1,\n",
       " 'nt': 0.1,\n",
       " 'products': 0.1,\n",
       " 'singing': 0.1,\n",
       " 'unlimited': 0.1,\n",
       " 'win': 0.1,\n",
       " 'xp': 0.1}"
      ]
     },
     "execution_count": 16,
     "metadata": {},
     "output_type": "execute_result"
    }
   ],
   "source": [
    "termfreq(amazon_rdd.filter(lambda x: x[0] == 'b0006se5bq').collect()[0][1])"
   ]
  },
  {
   "cell_type": "code",
   "execution_count": 17,
   "metadata": {
    "collapsed": true
   },
   "outputs": [],
   "source": [
    "#Part 4\n",
    "#Combine the amazon and google rdd with tokenized words\n",
    "CorpusRDD = amazon_rdd.union(google_rdd)"
   ]
  },
  {
   "cell_type": "code",
   "execution_count": 340,
   "metadata": {
    "collapsed": false
   },
   "outputs": [
    {
     "data": {
      "text/plain": [
       "[Row(Id='b0006se5bq', description=['singing', 'coach', 'unlimited', 'electronic', 'learning', 'products', 'win', 'nt', '2000', 'xp']),\n",
       " Row(Id='b000ehpzv8', description=['emc', 'retrospect', '7', '5', 'disk', 'diskcromwindows'])]"
      ]
     },
     "execution_count": 340,
     "metadata": {},
     "output_type": "execute_result"
    }
   ],
   "source": [
    "#Convert the RDD to Dataframe to use with the HastingTF and IDF functions\n",
    "CorpusDF = CorpusRDD.map(lambda line: Row(Id=line[0],\n",
    "description=line[1])).toDF()\n",
    "CorpusDF.take(2)"
   ]
  },
  {
   "cell_type": "code",
   "execution_count": 280,
   "metadata": {
    "collapsed": false
   },
   "outputs": [],
   "source": [
    "#Part 3\n",
    "#Use MLLIB to create IDF for the corpus\n",
    "from pyspark.ml.feature import HashingTF, IDF\n",
    "hashingTF = HashingTF(inputCol=\"description\", outputCol=\"tf\", numFeatures=4589)\n",
    "featurizedData = hashingTF.transform(CorpusDF)"
   ]
  },
  {
   "cell_type": "code",
   "execution_count": 277,
   "metadata": {
    "collapsed": false
   },
   "outputs": [
    {
     "data": {
      "text/plain": [
       "[Row(Id='b0006se5bq', description=['singing', 'coach', 'unlimited', 'electronic', 'learning', 'products', 'win', 'nt', '2000', 'xp'], tf=SparseVector(4589, {578: 1.0, 702: 1.0, 1894: 1.0, 1900: 1.0, 2663: 1.0, 2781: 1.0, 3320: 1.0, 3920: 1.0, 3928: 1.0, 4510: 1.0})),\n",
       " Row(Id='b000ehpzv8', description=['emc', 'retrospect', '7', '5', 'disk', 'diskcromwindows'], tf=SparseVector(4589, {534: 1.0, 1506: 1.0, 2240: 1.0, 2833: 1.0, 2867: 1.0, 4130: 1.0}))]"
      ]
     },
     "execution_count": 277,
     "metadata": {},
     "output_type": "execute_result"
    }
   ],
   "source": [
    "#Term frequency\n",
    "featurizedData.take(2)"
   ]
  },
  {
   "cell_type": "code",
   "execution_count": 278,
   "metadata": {
    "collapsed": false,
    "scrolled": true
   },
   "outputs": [
    {
     "name": "stdout",
     "output_type": "stream",
     "text": [
      "+----------+--------------------+--------------------+\n",
      "|        Id|         description|                  tf|\n",
      "+----------+--------------------+--------------------+\n",
      "|b0006se5bq|[singing, coach, ...|(262144,[47491,59...|\n",
      "|b000ehpzv8|[emc, retrospect,...|(262144,[13087,63...|\n",
      "|b0000dbykm|[mia, s, math, ad...|(262144,[19492,19...|\n",
      "|b00006hmwc|[reference, domin...|(262144,[15013,17...|\n",
      "|b000083k56|                  []|      (262144,[],[])|\n",
      "|b000fm18vi|[chord, display, ...|(262144,[39221,80...|\n",
      "|b0009rgzgm|[use, computer, r...|(262144,[15,13828...|\n",
      "|b0000ycfdq|                  []|      (262144,[],[])|\n",
      "|b0007g9760|[award, winning, ...|(262144,[5125,636...|\n",
      "|b000ivhozk|[easy, fast, way,...|(262144,[3950,204...|\n",
      "|b0009i9tqy|[build, skills, w...|(262144,[10462,30...|\n",
      "|b0009stm6g|                  []|      (262144,[],[])|\n",
      "|b000098xjo|                  []|      (262144,[],[])|\n",
      "|b000ju9ndq|[diskeepeer, 2007...|(262144,[45283,61...|\n",
      "|b000nqq29y|[monarch, v9, 0, 1u]|(262144,[8227,843...|\n",
      "|b000h774k0|[dramatica, pro, ...|(262144,[47491,49...|\n",
      "|b000162zq0|[emedia, bass, me...|(262144,[27050,47...|\n",
      "|b000qs8n64|                  []|      (262144,[],[])|\n",
      "|b000cpshfs|[includes, origin...|(262144,[8449,880...|\n",
      "|b000brgbpa|[computrace, loja...|(262144,[19003,19...|\n",
      "+----------+--------------------+--------------------+\n",
      "only showing top 20 rows\n",
      "\n"
     ]
    }
   ],
   "source": [
    "from pyspark.sql.functions import udf\n",
    "from pyspark import SparkContext\n",
    "from pyspark.sql import SQLContext, Row\n",
    "from pyspark.mllib.feature import HashingTF\n",
    "from pyspark.mllib.feature import IDF\n",
    "from pyspark.mllib.linalg import SparseVector\n",
    "from pyspark.ml.feature import HashingTF as MLHashingTF\n",
    "from pyspark.ml.feature import IDF as MLIDF\n",
    "from pyspark.sql.types import DoubleType\n",
    "\n",
    "df = (CorpusDF.rdd.map(lambda x : (x[0],x[1])).toDF().withColumnRenamed(\"_1\",\"Id\").withColumnRenamed(\"_2\",\"description\"))\n",
    "\n",
    "htf = MLHashingTF(inputCol=\"description\", outputCol=\"tf\")\n",
    "tf = htf.transform(df)\n",
    "tf.show()"
   ]
  },
  {
   "cell_type": "code",
   "execution_count": 282,
   "metadata": {
    "collapsed": false,
    "scrolled": true
   },
   "outputs": [
    {
     "name": "stdout",
     "output_type": "stream",
     "text": [
      "+----------+--------------------+--------------------+--------------------+------------------+\n",
      "|        Id|         description|                  tf|                 idf|           idf_sum|\n",
      "+----------+--------------------+--------------------+--------------------+------------------+\n",
      "|b0006se5bq|[singing, coach, ...|(4589,[578,702,18...|(4589,[578,702,18...|40.727121209134054|\n",
      "|b000ehpzv8|[emc, retrospect,...|(4589,[534,1506,2...|(4589,[534,1506,2...| 26.60508507448668|\n",
      "|b0000dbykm|[mia, s, math, ad...|(4589,[681,724,12...|(4589,[681,724,12...| 57.07010641528898|\n",
      "|b00006hmwc|[reference, domin...|(4589,[333,382,67...|(4589,[333,382,67...|134.25702459030916|\n",
      "|b000083k56|                  []|        (4589,[],[])|        (4589,[],[])|               0.0|\n",
      "|b000fm18vi|[chord, display, ...|(4589,[128,784,10...|(4589,[128,784,10...|53.436607152533945|\n",
      "|b0009rgzgm|[use, computer, r...|(4589,[127,189,29...|(4589,[127,189,29...|242.48032367770162|\n",
      "|b0000ycfdq|                  []|        (4589,[],[])|        (4589,[],[])|               0.0|\n",
      "|b0007g9760|[award, winning, ...|(4589,[37,135,247...|(4589,[37,135,247...| 394.2630265905644|\n",
      "|b000ivhozk|[easy, fast, way,...|(4589,[38,48,264,...|(4589,[38,48,264,...| 98.35095418578915|\n",
      "|b0009i9tqy|[build, skills, w...|(4589,[32,724,107...|(4589,[32,724,107...|126.33033330473972|\n",
      "|b0009stm6g|                  []|        (4589,[],[])|        (4589,[],[])|               0.0|\n",
      "|b000098xjo|                  []|        (4589,[],[])|        (4589,[],[])|               0.0|\n",
      "|b000ju9ndq|[diskeepeer, 2007...|(4589,[63,1633,23...|(4589,[63,1633,23...| 36.53620705677561|\n",
      "|b000nqq29y|[monarch, v9, 0, 1u]|(4589,[228,285,50...|(4589,[228,285,50...|19.307625940436516|\n",
      "|b000h774k0|[dramatica, pro, ...|(4589,[69,753,851...|(4589,[69,753,851...| 44.30240142217739|\n",
      "|b000162zq0|[emedia, bass, me...|(4589,[534,824,84...|(4589,[534,824,84...| 63.21252064651978|\n",
      "|b000qs8n64|                  []|        (4589,[],[])|        (4589,[],[])|               0.0|\n",
      "|b000cpshfs|[includes, origin...|(4589,[194,245,58...|(4589,[194,245,58...| 447.3966678489773|\n",
      "|b000brgbpa|[computrace, loja...|(4589,[112,510,70...|(4589,[112,510,70...|181.88157387586207|\n",
      "+----------+--------------------+--------------------+--------------------+------------------+\n",
      "only showing top 20 rows\n",
      "\n"
     ]
    }
   ],
   "source": [
    "#Part 5\n",
    "#IDF, and TF-IDF calculations\n",
    "idf = IDF(inputCol=\"tf\", outputCol=\"idf\")\n",
    "idfModel = idf.fit(featurizedData)\n",
    "rescaledData = idfModel.transform(featurizedData)\n",
    "\n",
    "sum_ = udf(lambda v: float(v.values.sum()), DoubleType())\n",
    "rescaledData.withColumn(\"idf_sum\", sum_(\"idf\")).show()"
   ]
  },
  {
   "cell_type": "code",
   "execution_count": 355,
   "metadata": {
    "collapsed": false
   },
   "outputs": [],
   "source": [
    "from operator import add\n",
    "def idfs(corpus):\n",
    "    uniqueTokens = corpus.flatMap(lambda pair: set(pair[1]))\n",
    "    tokenCountPairTuple = uniqueTokens.map(lambda token: (token, 1.0))\n",
    "    tokenSumPairTuple = tokenCountPairTuple.reduceByKey(add)\n",
    "    N = corpus.count()\n",
    "    return (tokenSumPairTuple.map(lambda pair: (pair[0], N/pair[1])))"
   ]
  },
  {
   "cell_type": "code",
   "execution_count": 357,
   "metadata": {
    "collapsed": false
   },
   "outputs": [
    {
     "data": {
      "text/plain": [
       "<matplotlib.text.Text at 0x1c4ed6b0048>"
      ]
     },
     "execution_count": 357,
     "metadata": {},
     "output_type": "execute_result"
    },
    {
     "data": {
      "image/png": "[encoded data removed]",
      "text/plain": [
       "<matplotlib.figure.Figure at 0x1c4ed7e3e10>"
      ]
     },
     "metadata": {},
     "output_type": "display_data"
    }
   ],
   "source": [
    "#Histogram of IDF values\n",
    "import numpy as np\n",
    "import matplotlib.pyplot as plt\n",
    "%matplotlib inline\n",
    "\n",
    "idf_values = idfs(CorpusRDD).map(lambda pair: pair[1]).collect()\n",
    "fig, ax = plt.subplots()\n",
    "ax.hist(idf_values, 100)\n",
    "plt.title(\"Histogram of IDF values\")\n",
    "plt.xlabel(\"IDF values\")\n",
    "plt.ylabel(\"Number of values\")"
   ]
  },
  {
   "cell_type": "code",
   "execution_count": 467,
   "metadata": {
    "collapsed": false
   },
   "outputs": [
    {
     "data": {
      "text/plain": [
       "[Row(tokens='software', count=1112),\n",
       " Row(tokens='s', count=548),\n",
       " Row(tokens='mac', count=453),\n",
       " Row(tokens='windows', count=431),\n",
       " Row(tokens='system', count=399),\n",
       " Row(tokens='new', count=353),\n",
       " Row(tokens='x', count=325),\n",
       " Row(tokens='1', count=310),\n",
       " Row(tokens='features', count=292),\n",
       " Row(tokens='hours', count=290)]"
      ]
     },
     "execution_count": 467,
     "metadata": {},
     "output_type": "execute_result"
    }
   ],
   "source": [
    "#Part 6\n",
    "#Calculate token frequencies for tokens\n",
    "tokens = CorpusRDD.flatMap(lambda x: x[1])\n",
    "tokenrdd = tokens.map(lambda line: line.split(\",\"))\n",
    "tokendf = tokenrdd.toDF().withColumnRenamed(\"_1\",\"tokens\")\n",
    "book_tf = tokendf.groupBy(\"tokens\").agg(func.count('*').alias('count')).orderBy('count', ascending=False)\n",
    "book_tf.take(10)"
   ]
  },
  {
   "cell_type": "code",
   "execution_count": 476,
   "metadata": {
    "collapsed": true
   },
   "outputs": [],
   "source": [
    "#Create a Python dictionary where each token maps to the token's frequency times the token's IDF weight\n",
    "def tfidf(tokens,idfs):\n",
    "    tfs = termfreq(tokens)\n",
    "    tfIdfDict = dict((token, tfs[token]*idfs[token]) for token in tokens)\n",
    "    return tfIdfDict"
   ]
  },
  {
   "cell_type": "code",
   "execution_count": 478,
   "metadata": {
    "collapsed": false
   },
   "outputs": [
    {
     "data": {
      "text/plain": [
       "{'2000': 2.2538461538461543,\n",
       " 'coach': 146.5,\n",
       " 'electronic': 13.952380952380953,\n",
       " 'learning': 3.530120481927711,\n",
       " 'nt': 13.31818181818182,\n",
       " 'products': 9.451612903225806,\n",
       " 'singing': 48.833333333333336,\n",
       " 'unlimited': 20.92857142857143,\n",
       " 'win': 2.688073394495413,\n",
       " 'xp': 1.754491017964072}"
      ]
     },
     "execution_count": 478,
     "metadata": {},
     "output_type": "execute_result"
    }
   ],
   "source": [
    "tokens_id = amazon_rdd.filter(lambda x: x[0] == 'b0006se5bq').collect()[0][1]\n",
    "idf_wt = idfs(CorpusRDD).collectAsMap()\n",
    "tfidf_id = tfidf(tokens_id, idf_wt)\n",
    "tfidf_id"
   ]
  }
 ],
 "metadata": {
  "kernelspec": {
   "display_name": "Python 3",
   "language": "python",
   "name": "python3"
  },
  "language_info": {
   "codemirror_mode": {
    "name": "ipython",
    "version": 3
   },
   "file_extension": ".py",
   "mimetype": "text/x-python",
   "name": "python",
   "nbconvert_exporter": "python",
   "pygments_lexer": "ipython3",
   "version": "3.6.0"
  }
 },
 "nbformat": 4,
 "nbformat_minor": 2
}
