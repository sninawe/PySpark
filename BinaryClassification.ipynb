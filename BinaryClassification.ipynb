{
 "cells": [
  {
   "cell_type": "markdown",
   "metadata": {},
   "source": [
    "# Part 1 - Load Data"
   ]
  },
  {
   "cell_type": "code",
   "execution_count": 1,
   "metadata": {
    "collapsed": false
   },
   "outputs": [
    {
     "data": {
      "text/plain": [
       "[',X1,X2,X3,X4,X5,X6,X7,X8,X9,X10,X11,X12,X13,X14,X15,X16,X17,X18,X19,X20,X21,X22,X23,Y',\n",
       " 'ID,LIMIT_BAL,SEX,EDUCATION,MARRIAGE,AGE,PAY_0,PAY_2,PAY_3,PAY_4,PAY_5,PAY_6,BILL_AMT1,BILL_AMT2,BILL_AMT3,BILL_AMT4,BILL_AMT5,BILL_AMT6,PAY_AMT1,PAY_AMT2,PAY_AMT3,PAY_AMT4,PAY_AMT5,PAY_AMT6,default payment next month',\n",
       " '1,20000,2,2,1,24,2,2,-1,-1,-2,-2,3913,3102,689,0,0,0,0,689,0,0,0,0,1',\n",
       " '2,120000,2,2,2,26,-1,2,0,0,0,2,2682,1725,2682,3272,3455,3261,0,1000,1000,1000,0,2000,1']"
      ]
     },
     "execution_count": 1,
     "metadata": {},
     "output_type": "execute_result"
    }
   ],
   "source": [
    "from pyspark.sql import SQLContext\n",
    "sqlContext = SQLContext(sc)\n",
    "from pyspark.sql.types import *\n",
    "from pyspark.sql import Row\n",
    "from pyspark.mllib.util import MLUtils\n",
    "from pyspark.ml.linalg import Vectors\n",
    "from pyspark.ml.feature import MinMaxScaler\n",
    "from pyspark.sql import types\n",
    "from pyspark.sql.functions import *\n",
    "\n",
    "\n",
    "rdd1 = sc.textFile(\"default of credit card clients1.csv\")\n",
    "rdd1.take(4)"
   ]
  },
  {
   "cell_type": "markdown",
   "metadata": {},
   "source": [
    "# Part 2 - Data Transformation"
   ]
  },
  {
   "cell_type": "code",
   "execution_count": 2,
   "metadata": {
    "collapsed": false
   },
   "outputs": [
    {
     "data": {
      "text/plain": [
       "['ID,LIMIT_BAL,SEX,EDUCATION,MARRIAGE,AGE,PAY_0,PAY_2,PAY_3,PAY_4,PAY_5,PAY_6,BILL_AMT1,BILL_AMT2,BILL_AMT3,BILL_AMT4,BILL_AMT5,BILL_AMT6,PAY_AMT1,PAY_AMT2,PAY_AMT3,PAY_AMT4,PAY_AMT5,PAY_AMT6,default payment next month',\n",
       " '1,20000,2,2,1,24,2,2,-1,-1,-2,-2,3913,3102,689,0,0,0,0,689,0,0,0,0,1']"
      ]
     },
     "execution_count": 2,
     "metadata": {},
     "output_type": "execute_result"
    }
   ],
   "source": [
    "#Remove First Header Record\n",
    "Header = rdd1.filter(lambda l: \"X1\" in l)\n",
    "Header.collect()\n",
    "rddNoHeader = rdd1.subtract(Header)\n",
    "rddNoHeader.take(2)"
   ]
  },
  {
   "cell_type": "code",
   "execution_count": 3,
   "metadata": {
    "collapsed": false
   },
   "outputs": [
    {
     "data": {
      "text/plain": [
       "['2,120000,2,2,2,26,-1,2,0,0,0,2,2682,1725,2682,3272,3455,3261,0,1000,1000,1000,0,2000,1',\n",
       " '5,50000,1,2,1,57,-1,0,-1,0,0,0,8617,5670,35835,20940,19146,19131,2000,36681,10000,9000,689,679,0']"
      ]
     },
     "execution_count": 3,
     "metadata": {},
     "output_type": "execute_result"
    }
   ],
   "source": [
    "#Remove Second Header Record\n",
    "Header2 = rddNoHeader.filter(lambda l: \"ID\" in l)\n",
    "Header2.collect()\n",
    "rddNoHeader1 = rddNoHeader.subtract(Header2)\n",
    "rddNoHeader1.take(2)"
   ]
  },
  {
   "cell_type": "code",
   "execution_count": 4,
   "metadata": {
    "collapsed": false
   },
   "outputs": [],
   "source": [
    "#Split the comma separated data\n",
    "rdd = rddNoHeader1.map(lambda line: line.split(\",\"))"
   ]
  },
  {
   "cell_type": "code",
   "execution_count": 5,
   "metadata": {
    "collapsed": false
   },
   "outputs": [],
   "source": [
    "#Convert rdd to dataframe and give column names\n",
    "df = rdd.map(lambda line: Row(ID=line[0],\n",
    "LIMIT_BAL=line[1],\n",
    "SEX=line[2],\n",
    "EDUCATION=line[3],\n",
    "MARRIAGE=line[4],\n",
    "AGE=line[5],\n",
    "PAY_0=line[6],\n",
    "PAY_2=line[7],\n",
    "PAY_3=line[8],\n",
    "PAY_4=line[9],\n",
    "PAY_5=line[10],\n",
    "PAY_6=line[11],\n",
    "BILL_AMT1=line[12],\n",
    "BILL_AMT2=line[13],\n",
    "BILL_AMT3=line[14],\n",
    "BILL_AMT4=line[15],\n",
    "BILL_AMT5=line[16],\n",
    "BILL_AMT6=line[17],\n",
    "PAY_AMT1=line[18],\n",
    "PAY_AMT2=line[19],\n",
    "PAY_AMT3=line[20],\n",
    "PAY_AMT4=line[21],\n",
    "PAY_AMT5=line[22],\n",
    "PAY_AMT6=line[23],\n",
    "default_payment_next_month=line[24])).toDF()"
   ]
  },
  {
   "cell_type": "code",
   "execution_count": 6,
   "metadata": {
    "collapsed": true
   },
   "outputs": [],
   "source": [
    "#keep 23 attributes for float conversion\n",
    "df_float = df.drop('default_payment_next_month')\n",
    "#keep class variable for integer conversion\n",
    "df_int = df.select('default_payment_next_month')\n",
    "\n",
    "#Convert all features to float\n",
    "df_1 = df_float.select(*(col(c).cast(\"float\").alias(c) for c in df_float.columns))\n",
    "\n",
    "#Feature selection, drop the ID column as it is not useful\n",
    "df_1 = df_1.drop('ID')\n",
    "\n",
    "#Convert the target variable to integer\n",
    "df_2 = df_int.select(*(col(c).cast(\"integer\").alias(c) for c in df_int.columns))\n",
    "\n",
    "features = df_1.rdd.map(lambda line: line[0:])"
   ]
  },
  {
   "cell_type": "code",
   "execution_count": 7,
   "metadata": {
    "collapsed": false
   },
   "outputs": [],
   "source": [
    "lab = df_2.rdd.map(lambda line: line[0])"
   ]
  },
  {
   "cell_type": "code",
   "execution_count": 8,
   "metadata": {
    "collapsed": false
   },
   "outputs": [
    {
     "name": "stdout",
     "output_type": "stream",
     "text": [
      "Features scaled to range: [0.000000, 1.000000]\n",
      "+--------------------+--------------------+\n",
      "|            features|      scaledFeatures|\n",
      "+--------------------+--------------------+\n",
      "|[26.0,2682.0,1725...|[0.08620689655172...|\n",
      "|[57.0,8617.0,5670...|[0.62068965517241...|\n",
      "|[29.0,70887.0,670...|[0.13793103448275...|\n",
      "|[26.0,15329.0,165...|[0.08620689655172...|\n",
      "|[33.0,30518.0,296...|[0.20689655172413...|\n",
      "|[33.0,218668.0,22...|[0.20689655172413...|\n",
      "|[28.0,22848.0,236...|[0.12068965517241...|\n",
      "|[39.0,70800.0,720...|[0.31034482758620...|\n",
      "|[22.0,18565.0,172...|[0.01724137931034...|\n",
      "|[44.0,8583.0,8303...|[0.39655172413793...|\n",
      "|[24.0,5580.0,0.0,...|[0.05172413793103...|\n",
      "|[35.0,304991.0,31...|[0.24137931034482...|\n",
      "|[34.0,10674.0,120...|[0.22413793103448...|\n",
      "|[32.0,86627.0,781...|[0.18965517241379...|\n",
      "|[56.0,208775.0,18...|[0.60344827586206...|\n",
      "|[37.0,105420.0,10...|[0.27586206896551...|\n",
      "|[47.0,1234.0,396....|[0.44827586206896...|\n",
      "|[46.0,21148.0,238...|[0.43103448275862...|\n",
      "|[27.0,101640.0,10...|[0.10344827586206...|\n",
      "|[35.0,72112.0,738...|[0.24137931034482...|\n",
      "+--------------------+--------------------+\n",
      "only showing top 20 rows\n",
      "\n"
     ]
    }
   ],
   "source": [
    "#Data Transformation - Normalization\n",
    "#Normalize features between 0 and 1\n",
    "new_df = lab.zip(features.map(lambda x:Vectors.dense(x))).toDF(schema=['id','features'])\n",
    "\n",
    "scaler = MinMaxScaler(inputCol=\"features\", outputCol=\"scaledFeatures\")\n",
    "\n",
    "# Compute summary statistics and generate MinMaxScalerModel\n",
    "scalerModel = scaler.fit(new_df)\n",
    "scaledData = scalerModel.transform(new_df)\n",
    "print(\"Features scaled to range: [%f, %f]\" % (scaler.getMin(), scaler.getMax()))\n",
    "scaledData.select(\"features\", \"scaledFeatures\").show()"
   ]
  },
  {
   "cell_type": "code",
   "execution_count": 9,
   "metadata": {
    "collapsed": false
   },
   "outputs": [
    {
     "data": {
      "text/plain": [
       "[LabeledPoint(1.0, [0.08620689655172414,0.14889243432608523,0.06785750891138721,0.08781713374617661,0.1632199369622433,0.08407395104635079,0.26348474217820017,0.3333333333333333,0.1111111111111111,0.6666666666666666,0.1,0.4,0.2,0.2,0.2,0.4,0.0,0.0005937329116246374,0.0011160216061782955,0.001610305958132045,0.0,0.0037831069143845074,1.0]),\n",
       " LabeledPoint(0.0, [0.6206896551724138,0.1541442237837484,0.07160143037729617,0.10601953602623983,0.17986295976020783,0.09963262452838607,0.27568054826565186,0.3333333333333333,0.04040404040404041,0.3333333333333333,0.1,0.2,0.1,0.2,0.2,0.2,0.0022895030862501602,0.02177871693130332,0.011160216061782956,0.014492753623188406,0.0016153649575996005,0.0012843647974335403,0.0]),\n",
       " LabeledPoint(0.0, [0.13793103448275862,0.20924598107586026,0.1298623527580696,0.12124228526814956,0.21637060021514978,0.13704344549605604,0.3036386844513847,0.16666666666666666,0.24242424242424243,0.6666666666666666,0.2,0.2,0.2,0.2,0.2,0.2,0.0034342546293752406,0.0017811987348739118,0.003348064818534887,0.004830917874396135,0.007033519408996809,0.005674660371576761,0.0])]"
      ]
     },
     "execution_count": 9,
     "metadata": {},
     "output_type": "execute_result"
    }
   ],
   "source": [
    "#Label the data\n",
    "from pyspark.mllib.regression import LabeledPoint\n",
    "\n",
    "#Keep only id and scaledfeatures\n",
    "transformed_data = scaledData.select(\"id\",\"scaledFeatures\")\n",
    "#Label id and scaledfeatures\n",
    "LabeledData = transformed_data.rdd.map(lambda x: LabeledPoint(x[0],[x[1]]))\n",
    "LabeledData.take(3)"
   ]
  },
  {
   "cell_type": "code",
   "execution_count": 10,
   "metadata": {
    "collapsed": true
   },
   "outputs": [],
   "source": [
    "#Split in training and test set in 70-30 proportion\n",
    "trainingData, testingData = LabeledData.randomSplit([.8,.2],seed=1234)"
   ]
  },
  {
   "cell_type": "markdown",
   "metadata": {},
   "source": [
    "# Part 3 - Machine Learning Algorithms Comparison"
   ]
  },
  {
   "cell_type": "code",
   "execution_count": 11,
   "metadata": {
    "collapsed": false
   },
   "outputs": [
    {
     "name": "stdout",
     "output_type": "stream",
     "text": [
      "Test Error = 0.17456317204301075\n"
     ]
    }
   ],
   "source": [
    "#Supervised Learning - Decision Tree Algorithm\n",
    "from pyspark.mllib.regression import LabeledPoint\n",
    "from pyspark.mllib.tree import DecisionTree\n",
    "from pyspark.mllib.util import MLUtils\n",
    "\n",
    "# Note the arguments passed to train the model i.e. to build decision tree\n",
    "model1 = DecisionTree.trainClassifier(trainingData, numClasses=2, categoricalFeaturesInfo={}, impurity='gini', maxDepth=3, maxBins=64)\n",
    "\n",
    "#Predict and Test error\n",
    "predictions1 = model1.predict(testingData.map(lambda x: x.features))\n",
    "labelsAndPredictions1 = testingData.map(lambda lp: lp.label).zip(predictions1)\n",
    "\n",
    "# Count number of mismatches with test data provided\n",
    "testErr1 = labelsAndPredictions1.filter(lambda w: w[0] != w[1]).count() / float(testingData.count())\n",
    "\n",
    "print('Test Error = ' + str(testErr1))"
   ]
  },
  {
   "cell_type": "code",
   "execution_count": 31,
   "metadata": {
    "collapsed": false
   },
   "outputs": [
    {
     "name": "stdout",
     "output_type": "stream",
     "text": [
      "None\n"
     ]
    }
   ],
   "source": [
    "metrics = BinaryClassificationMetrics(labelsAndPredictions1)\n",
    "print(metrics.unpersist())"
   ]
  },
  {
   "cell_type": "code",
   "execution_count": 27,
   "metadata": {
    "collapsed": false
   },
   "outputs": [
    {
     "name": "stdout",
     "output_type": "stream",
     "text": [
      "Test Error = 0.17237903225806453\n"
     ]
    }
   ],
   "source": [
    "#Supervised Learning - Random Forest Algorithm\n",
    "from pyspark.mllib.tree import RandomForest\n",
    "\n",
    "# Only difference is here. Note the arg 'numTree'. Normally more trees taken into consideration increases the accuracy of our prediction. But most of the time increase is so slight compared to significant increase in time taken to learn the model after a certain number of trees in the ensemble. \n",
    "model2 = RandomForest.trainClassifier(trainingData, numClasses=2, categoricalFeaturesInfo={}, numTrees=20, featureSubsetStrategy=\"auto\", impurity='gini', maxDepth=3, maxBins=64)\n",
    "\n",
    "predictions2 = model2.predict(testingData.map(lambda x: x.features))\n",
    "labelsAndPredictions2 = testingData.map(lambda lp: lp.label).zip(predictions2)\n",
    "\n",
    "\n",
    "testErr2 = labelsAndPredictions2.filter(lambda w: w[0] != w[1]).count() / float(testingData.count())\n",
    "print('Test Error = ' + str(testErr2))"
   ]
  },
  {
   "cell_type": "code",
   "execution_count": 28,
   "metadata": {
    "collapsed": false
   },
   "outputs": [
    {
     "name": "stdout",
     "output_type": "stream",
     "text": [
      "None\n"
     ]
    }
   ],
   "source": [
    "metrics = BinaryClassificationMetrics(labelsAndPredictions2)\n",
    "print(metrics.unpersist())"
   ]
  },
  {
   "cell_type": "markdown",
   "metadata": {},
   "source": [
    "# Part 4 - Model Evaluation"
   ]
  },
  {
   "cell_type": "code",
   "execution_count": 13,
   "metadata": {
    "collapsed": false
   },
   "outputs": [
    {
     "data": {
      "image/png": "[encoded data removed]",
      "text/plain": [
       "<matplotlib.figure.Figure at 0x2a741ba9198>"
      ]
     },
     "metadata": {},
     "output_type": "display_data"
    }
   ],
   "source": [
    "#Scatter Plot on the predicted labels from Decision Tree algorithm\n",
    "%matplotlib inline\n",
    "plot_df = labelsAndPredictions1.toDF()\n",
    "plot_df_rename = plot_df.withColumnRenamed(\"_1\", \"Predicted\").withColumnRenamed(\"_2\", \"Actual\")\n",
    "plot_pd = plot_df_rename.toPandas()\n",
    "\n",
    "from pandas.tools.plotting import scatter_matrix\n",
    "stuff = scatter_matrix(plot_pd, alpha=0.7, figsize=(6, 6), diagonal='kde')"
   ]
  },
  {
   "cell_type": "code",
   "execution_count": 105,
   "metadata": {
    "collapsed": false
   },
   "outputs": [
    {
     "data": {
      "image/png": "[encoded data removed]",
      "text/plain": [
       "<matplotlib.figure.Figure at 0x20af5e72438>"
      ]
     },
     "metadata": {},
     "output_type": "display_data"
    }
   ],
   "source": [
    "#Scatter Plot on the predicted labels from Random Forest algorithm\n",
    "%matplotlib inline\n",
    "plot_df = labelsAndPredictions2.toDF()\n",
    "plot_df_rename = plot_df.withColumnRenamed(\"_1\", \"Predicted\").withColumnRenamed(\"_2\", \"Actual\")\n",
    "plot_pd = plot_df_rename.toPandas()\n",
    "\n",
    "from pandas.tools.plotting import scatter_matrix\n",
    "stuff = scatter_matrix(plot_pd, alpha=0.7, figsize=(6, 6), diagonal='kde')"
   ]
  },
  {
   "cell_type": "code",
   "execution_count": 24,
   "metadata": {
    "collapsed": false
   },
   "outputs": [
    {
     "name": "stdout",
     "output_type": "stream",
     "text": [
      "Area under PR = 0.34142117334274175\n",
      "Area under ROC = 0.764231204070096\n"
     ]
    }
   ],
   "source": [
    "#ROC area and Precision Recall area for the Decision Tree algorithm results\n",
    "from pyspark.mllib.evaluation import BinaryClassificationMetrics\n",
    "metrics = BinaryClassificationMetrics(labelsAndPredictions1)\n",
    "# Area under precision-recall curve\n",
    "print(\"Area under PR = %s\" % metrics.areaUnderPR)\n",
    "\n",
    "# Area under ROC curve\n",
    "print(\"Area under ROC = %s\" % metrics.areaUnderROC)"
   ]
  },
  {
   "cell_type": "code",
   "execution_count": 123,
   "metadata": {
    "collapsed": false
   },
   "outputs": [
    {
     "name": "stdout",
     "output_type": "stream",
     "text": [
      "Area under PR = 0.20560906531307463\n",
      "Area under ROC = 0.7509265515293039\n"
     ]
    }
   ],
   "source": [
    "#ROC area and Precision Recall area for the RandomForest algorithm results\n",
    "from pyspark.mllib.evaluation import BinaryClassificationMetrics\n",
    "metrics = BinaryClassificationMetrics(labelsAndPredictions2)\n",
    "# Area under precision-recall curve\n",
    "print(\"Area under PR = %s\" % metrics.areaUnderPR)\n",
    "\n",
    "# Area under ROC curve\n",
    "print(\"Area under ROC = %s\" % metrics.areaUnderROC)"
   ]
  },
  {
   "cell_type": "code",
   "execution_count": 18,
   "metadata": {
    "collapsed": false
   },
   "outputs": [
    {
     "data": {
      "image/png": "[encoded data removed]",
      "text/plain": [
       "<matplotlib.figure.Figure at 0x2a1beffbdd8>"
      ]
     },
     "metadata": {},
     "output_type": "display_data"
    }
   ],
   "source": [
    "#ROC curve for the Decision Tree algorithm results\n",
    "from sklearn.metrics import roc_curve,auc\n",
    "import matplotlib.pyplot as plt\n",
    "%matplotlib inline\n",
    "plot_df = labelsAndPredictions2.toDF()\n",
    "plot_df_rename = plot_df.withColumnRenamed(\"_1\", \"Predicted\").withColumnRenamed(\"_2\", \"Actual\")\n",
    "plot_pd = plot_df_rename.toPandas()\n",
    "# MAKE PREDICTIONS\n",
    "#predictions_pddf = test_predictions.rename(columns={'_1': 'probability', '_2': 'label'})\n",
    "#prob = predictions_pddf[\"probability\"] \n",
    "fpr, tpr, thresholds = roc_curve(plot_pd['Actual'], plot_pd['Predicted'], pos_label=1);\n",
    "roc_auc = auc(fpr, tpr)\n",
    "\n",
    "# PLOT ROC CURVE\n",
    "plt.figure(figsize=(5,5))\n",
    "plt.plot(fpr, tpr, label='ROC curve (area = %0.2f)' % roc_auc)\n",
    "plt.plot([0, 1], [0, 1], 'k--')\n",
    "plt.xlim([0.0, 1.0])\n",
    "plt.ylim([0.0, 1.05])\n",
    "plt.xlabel('False Positive Rate')\n",
    "plt.ylabel('True Positive Rate')\n",
    "plt.title('ROC Curve')\n",
    "plt.legend(loc=\"lower right\")\n",
    "plt.show()"
   ]
  },
  {
   "cell_type": "code",
   "execution_count": 21,
   "metadata": {
    "collapsed": false
   },
   "outputs": [
    {
     "data": {
      "image/png": "[encoded data removed]",
      "text/plain": [
       "<matplotlib.figure.Figure at 0x2a1bf07a1d0>"
      ]
     },
     "metadata": {},
     "output_type": "display_data"
    }
   ],
   "source": [
    "#ROC curve for the RandomForest algorithm results\n",
    "from sklearn.metrics import roc_curve,auc\n",
    "import matplotlib.pyplot as plt\n",
    "%matplotlib inline\n",
    "plot_df = labelsAndPredictions1.toDF()\n",
    "plot_df_rename = plot_df.withColumnRenamed(\"_1\", \"Predicted\").withColumnRenamed(\"_2\", \"Actual\")\n",
    "plot_pd = plot_df_rename.toPandas()\n",
    "# MAKE PREDICTIONS\n",
    "#predictions_pddf = test_predictions.rename(columns={'_1': 'probability', '_2': 'label'})\n",
    "#prob = predictions_pddf[\"probability\"] \n",
    "fpr, tpr, thresholds = roc_curve(plot_pd['Actual'], plot_pd['Predicted'], pos_label=1);\n",
    "roc_auc = auc(fpr, tpr)\n",
    "\n",
    "# PLOT ROC CURVE\n",
    "plt.figure(figsize=(5,5))\n",
    "plt.plot(fpr, tpr, label='ROC curve (area = %0.2f)' % roc_auc)\n",
    "plt.plot([0, 1], [0, 1], 'k--')\n",
    "plt.xlim([0.0, 1.0])\n",
    "plt.ylim([0.0, 1.05])\n",
    "plt.xlabel('False Positive Rate')\n",
    "plt.ylabel('True Positive Rate')\n",
    "plt.title('ROC Curve')\n",
    "plt.legend(loc=\"lower right\")\n",
    "plt.show()"
   ]
  },
  {
   "cell_type": "code",
   "execution_count": 22,
   "metadata": {
    "collapsed": false
   },
   "outputs": [
    {
     "data": {
      "image/png": "[encoded data removed]",
      "text/plain": [
       "<matplotlib.figure.Figure at 0x2a73fba3ba8>"
      ]
     },
     "metadata": {},
     "output_type": "display_data"
    }
   ],
   "source": [
    "#plot the positive cases vs negative cases in Predicted and Actual\n",
    "all_preds = plot_df_rename.select(\"Predicted\").collect()\n",
    "preds = [i[0] for i in all_preds]\n",
    "\n",
    "all_act = plot_df_rename.select(\"Actual\").collect()\n",
    "actuals = [i[0] for i in all_act]\n",
    "\n",
    "from matplotlib import pyplot as plt\n",
    "%matplotlib inline\n",
    " \n",
    "# pos\n",
    "plt.hist(preds, 50, normed=1, facecolor='green', alpha=1.75)\n",
    "plt.hist(actuals, 50, normed=1, facecolor='red', alpha=0.25)\n",
    "plt.xlabel('predicted_values')\n",
    "plt.ylabel('Counts')\n",
    "plt.title('positive Vs negative cases')\n",
    "plt.grid(True)\n",
    "plt.show()"
   ]
  },
  {
   "cell_type": "code",
   "execution_count": null,
   "metadata": {
    "collapsed": true
   },
   "outputs": [],
   "source": []
  }
 ],
 "metadata": {
  "kernelspec": {
   "display_name": "Python 3",
   "language": "python",
   "name": "python3"
  },
  "language_info": {
   "codemirror_mode": {
    "name": "ipython",
    "version": 3
   },
   "file_extension": ".py",
   "mimetype": "text/x-python",
   "name": "python",
   "nbconvert_exporter": "python",
   "pygments_lexer": "ipython3",
   "version": "3.6.0"
  }
 },
 "nbformat": 4,
 "nbformat_minor": 2
}
